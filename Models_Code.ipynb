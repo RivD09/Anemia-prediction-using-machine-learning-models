{
  "nbformat": 4,
  "nbformat_minor": 0,
  "metadata": {
    "colab": {
      "name": "Models_Code.ipynb",
      "provenance": [],
      "collapsed_sections": []
    },
    "kernelspec": {
      "name": "python3",
      "display_name": "Python 3"
    },
    "language_info": {
      "name": "python"
    },
    "accelerator": "GPU"
  },
  "cells": [
    {
      "cell_type": "markdown",
      "metadata": {
        "id": "GdNN3EF0qiVb"
      },
      "source": [
        "Librerías"
      ]
    },
    {
      "cell_type": "code",
      "metadata": {
        "id": "7dTeduLEfdxY",
        "colab": {
          "base_uri": "https://localhost:8080/"
        },
        "outputId": "08479a75-a7c7-4571-a3a5-03889104d34d"
      },
      "source": [
        "! apt-get install graphviz\n",
        "import graphviz\n",
        "\n",
        "import numpy as np\n",
        "import pandas as pd\n",
        "import seaborn as sb\n",
        "import seaborn as sns\n",
        "import io\n",
        "import matplotlib.pyplot as plt\n",
        "from IPython.display import Image as PImage\n",
        "from subprocess import check_call\n",
        "from PIL import Image, ImageDraw, ImageFont"
      ],
      "execution_count": null,
      "outputs": [
        {
          "output_type": "stream",
          "name": "stdout",
          "text": [
            "Reading package lists... Done\n",
            "Building dependency tree       \n",
            "Reading state information... Done\n",
            "graphviz is already the newest version (2.40.1-2).\n",
            "0 upgraded, 0 newly installed, 0 to remove and 37 not upgraded.\n"
          ]
        }
      ]
    },
    {
      "cell_type": "markdown",
      "metadata": {
        "id": "jdd7wm1XquEN"
      },
      "source": [
        "Cargar y visualizar la dataset"
      ]
    },
    {
      "cell_type": "code",
      "metadata": {
        "id": "Cxt2SxRTTkph",
        "colab": {
          "base_uri": "https://localhost:8080/",
          "height": 304
        },
        "outputId": "6917eda5-05ba-4b94-849f-f5c6d59981af"
      },
      "source": [
        "#Cargar dataset\n",
        "from google.colab import files \n",
        "#uploaded = files.upload()\n",
        "\n",
        "#Leer dataset\n",
        "df=pd.read_excel('/content/Colab.xlsx')\n",
        "\n",
        "#Grafica dataset Anemia Detection TEST POSITIVE (1) vs TEST NEGATIVE (0)\n",
        "count_classes = pd.value_counts(df['TEST'], sort = True)\n",
        "count_classes.plot(kind = 'bar', rot=0)\n",
        "LABELS = \"\"\n",
        "plt.xticks(range(2), LABELS)\n",
        "plt.title(\"ANEMIA DETECTION\")\n",
        "plt.xlabel(\"  POSITIVE 1 (208)                           NEGATIVE 0 (156)\")\n",
        "plt.ylabel(\"NUMBER OF OBSERVATIONS\")"
      ],
      "execution_count": null,
      "outputs": [
        {
          "output_type": "execute_result",
          "data": {
            "text/plain": [
              "Text(0, 0.5, 'NUMBER OF OBSERVATIONS')"
            ]
          },
          "metadata": {},
          "execution_count": 2
        },
        {
          "output_type": "display_data",
          "data": {
            "image/png": "[encoded data removed]",
            "text/plain": [
              "<Figure size 432x288 with 1 Axes>"
            ]
          },
          "metadata": {
            "needs_background": "light"
          }
        }
      ]
    },
    {
      "cell_type": "markdown",
      "metadata": {
        "id": "jwsycFIM8DSI"
      },
      "source": [
        "Tratamiento de la dataset"
      ]
    },
    {
      "cell_type": "code",
      "metadata": {
        "id": "FI4vFnlA8Hiu",
        "colab": {
          "base_uri": "https://localhost:8080/"
        },
        "outputId": "dc9c153d-85b1-4049-a414-63d339427353"
      },
      "source": [
        "#Dividir los datos en atributos y etiquetas\n",
        "\"\"\"\n",
        "X = df.iloc[:, :-1].values\n",
        "#print(X)\n",
        "y = df.iloc[:, 11].values\n",
        "#print(y)\n",
        "\"\"\"\n",
        "X = df.drop('TEST', axis=1)\n",
        "print(X)\n",
        "y = df['TEST']\n",
        "print(y)\n",
        "\n",
        "#Partitioning entrenamiento/prueba\n",
        "from sklearn.model_selection import train_test_split\n",
        "X_train, X_test, y_train, y_test = train_test_split(X, y, test_size=0.70)\n",
        "\n",
        "#Escalado de caracteristicas - algoritmo de descenso gradiente\n",
        "from sklearn.preprocessing import StandardScaler\n",
        "scaler = StandardScaler()\n",
        "scaler.fit(X_train)\n",
        "X_train = scaler.transform(X_train)\n",
        "X_test = scaler.transform(X_test)"
      ],
      "execution_count": null,
      "outputs": [
        {
          "output_type": "stream",
          "name": "stdout",
          "text": [
            "     Age  Sex   RBC   PCV   MCV   MCH  MCHC   RDW    TLC  PLT/mm3   HGB\n",
            "0     28    0  5.66  34.0  60.1  17.0  28.2  20.0  11.10    128.3   9.6\n",
            "1     41    0  4.78  44.5  93.1  28.9  31.0  13.0   7.02    419.0  13.8\n",
            "2     40    1  4.65  41.6  89.5  28.8  32.2  13.0   8.09    325.0  13.4\n",
            "3     76    0  4.24  36.7  86.6  26.7  30.8  14.9  13.41    264.0  11.3\n",
            "4     20    1  4.14  36.9  89.1  27.8  31.2  13.2   4.75    196.0  11.5\n",
            "..   ...  ...   ...   ...   ...   ...   ...   ...    ...      ...   ...\n",
            "359   17    0  4.86  39.2  80.7  27.7  34.4  13.4   4.40    180.0  13.5\n",
            "360   51    0  4.85  35.2  91.7  31.0  33.8  13.3   5.60    215.0  15.0\n",
            "361   21    1  4.47  39.7  88.7  29.3  33.0  13.5   9.20    329.0  13.1\n",
            "362   35    1  4.75  36.2  86.7  27.9  32.1  13.5   6.48    174.0  13.2\n",
            "363   26    0  4.95  44.4  89.7  30.6  34.2  12.3   8.80    279.0  15.2\n",
            "\n",
            "[364 rows x 11 columns]\n",
            "0      1\n",
            "1      0\n",
            "2      0\n",
            "3      1\n",
            "4      1\n",
            "      ..\n",
            "359    0\n",
            "360    0\n",
            "361    0\n",
            "362    0\n",
            "363    0\n",
            "Name: TEST, Length: 364, dtype: int64\n"
          ]
        }
      ]
    },
    {
      "cell_type": "markdown",
      "metadata": {
        "id": "i-1b_0o3q_eT"
      },
      "source": [
        "K Nearest Neighbor"
      ]
    },
    {
      "cell_type": "code",
      "metadata": {
        "id": "73smYT-iTeBh",
        "colab": {
          "base_uri": "https://localhost:8080/",
          "height": 995
        },
        "outputId": "8700d70d-e320-4c11-9032-4e3d7b5c8f1a"
      },
      "source": [
        "#Entrenamiento y predicciones\n",
        "from sklearn.neighbors import KNeighborsClassifier\n",
        "classifier = KNeighborsClassifier(n_neighbors=5)\n",
        "classifier.fit(X_train, y_train)\n",
        "y_pred = classifier.predict(X_test)\n",
        "\n",
        "#Evaluar el algoritmo\n",
        "print(\"\\n********************* K NEAREST NEIGHBOR *********************\")\n",
        "from sklearn.metrics import classification_report, accuracy_score\n",
        "from sklearn.metrics import confusion_matrix, ConfusionMatrixDisplay\n",
        "cm = confusion_matrix(y_test, y_pred)\n",
        "disp = ConfusionMatrixDisplay(confusion_matrix=cm)\n",
        "disp.plot()\n",
        "print(\"\\n\\t   CONFUSION MATRIX\\n\")\n",
        "plt.show()\n",
        "\n",
        "print(\"\\n\\t\\t\\tCLASSIFICATION REPORT\\n\")\n",
        "print(classification_report(y_test, y_pred))\n",
        "\n",
        "#Comparacion de la tasa de error con el valor K\n",
        "error = []\n",
        "for i in range(1, 50):\n",
        "    knn = KNeighborsClassifier(n_neighbors=i)\n",
        "    knn.fit(X_train, y_train)\n",
        "    pred_i = knn.predict(X_test)\n",
        "    error.append(np.mean(pred_i != y_test))\n",
        "\n",
        "plt.figure(figsize=(12, 6))\n",
        "plt.plot(range(1, 50), error, color='blue', linestyle='dashed', marker='o',\n",
        "         markerfacecolor='red', markersize=10)\n",
        "plt.title('Tasa de Error Medio - Valor K')\n",
        "plt.xlabel('Valor K')\n",
        "plt.ylabel('Error medio')"
      ],
      "execution_count": null,
      "outputs": [
        {
          "output_type": "stream",
          "name": "stdout",
          "text": [
            "\n",
            "********************* K NEAREST NEIGHBOR *********************\n",
            "\n",
            "\t   CONFUSION MATRIX\n",
            "\n"
          ]
        },
        {
          "output_type": "display_data",
          "data": {
            "image/png": "[encoded data removed]",
            "text/plain": [
              "<Figure size 432x288 with 2 Axes>"
            ]
          },
          "metadata": {
            "needs_background": "light"
          }
        },
        {
          "output_type": "stream",
          "name": "stdout",
          "text": [
            "\n",
            "\t\t\tCLASSIFICATION REPORT\n",
            "\n",
            "              precision    recall  f1-score   support\n",
            "\n",
            "           0       0.85      0.82      0.83       111\n",
            "           1       0.86      0.89      0.88       144\n",
            "\n",
            "    accuracy                           0.86       255\n",
            "   macro avg       0.86      0.85      0.86       255\n",
            "weighted avg       0.86      0.86      0.86       255\n",
            "\n"
          ]
        },
        {
          "output_type": "execute_result",
          "data": {
            "text/plain": [
              "Text(0, 0.5, 'Error medio')"
            ]
          },
          "metadata": {},
          "execution_count": 4
        },
        {
          "output_type": "display_data",
          "data": {
            "image/png": "[encoded data removed]",
            "text/plain": [
              "<Figure size 864x432 with 1 Axes>"
            ]
          },
          "metadata": {
            "needs_background": "light"
          }
        }
      ]
    },
    {
      "cell_type": "markdown",
      "metadata": {
        "id": "4fJN1_AErP3k"
      },
      "source": [
        "Decision Tree Classifier\n",
        "\n"
      ]
    },
    {
      "cell_type": "code",
      "metadata": {
        "id": "pBcArV7Hhbk8",
        "colab": {
          "base_uri": "https://localhost:8080/",
          "height": 589
        },
        "outputId": "deeb4398-ace3-41c9-9c77-d17639619e23"
      },
      "source": [
        "#Entrenando y haciendo predicciones\n",
        "from sklearn.tree import export_graphviz\n",
        "df1 = df\n",
        "features = df1.drop([\"TEST\"], axis=1)\n",
        "X = np.array(features)\n",
        "y = np.array(df1[\"TEST\"])\n",
        "X_train, X_val, y_train, y_val = train_test_split(X, y,test_size=0.70)\n",
        "\n",
        "from sklearn.tree import DecisionTreeClassifier\n",
        "tree = DecisionTreeClassifier()\n",
        "tree.fit(X_train, y_train)\n",
        "y_pred = tree.predict(X_val)\n",
        "\n",
        "#Evaluar el algoritmo\n",
        "print(\"\\n********************* DECISION TREE CLASSIFIER *********************\")\n",
        "from sklearn.metrics import classification_report, confusion_matrix, accuracy_score\n",
        "from sklearn.metrics import confusion_matrix, ConfusionMatrixDisplay\n",
        "cm = confusion_matrix(y_test, y_pred)\n",
        "disp = ConfusionMatrixDisplay(confusion_matrix=cm)\n",
        "disp.plot()\n",
        "print(\"\\n\\t   CONFUSION MATRIX\\n\")\n",
        "plt.show()\n",
        "\n",
        "print(\"\\n\\t\\t\\tCLASSIFICATION REPORT\\n\")\n",
        "print(classification_report(y_val, y_pred))\n",
        "\n",
        "tree.tree_.max_depth\n",
        "validation_prediction = tree.predict(X_val)\n",
        "training_prediction = tree.predict(X_train)"
      ],
      "execution_count": null,
      "outputs": [
        {
          "output_type": "stream",
          "name": "stdout",
          "text": [
            "\n",
            "********************* DECISION TREE CLASSIFIER *********************\n",
            "\n",
            "\t   CONFUSION MATRIX\n",
            "\n"
          ]
        },
        {
          "output_type": "display_data",
          "data": {
            "image/png": "[encoded data removed]",
            "text/plain": [
              "<Figure size 432x288 with 2 Axes>"
            ]
          },
          "metadata": {
            "needs_background": "light"
          }
        },
        {
          "output_type": "stream",
          "name": "stdout",
          "text": [
            "\n",
            "\t\t\tCLASSIFICATION REPORT\n",
            "\n",
            "              precision    recall  f1-score   support\n",
            "\n",
            "           0       1.00      0.95      0.98       107\n",
            "           1       0.97      1.00      0.98       148\n",
            "\n",
            "    accuracy                           0.98       255\n",
            "   macro avg       0.98      0.98      0.98       255\n",
            "weighted avg       0.98      0.98      0.98       255\n",
            "\n"
          ]
        }
      ]
    },
    {
      "cell_type": "markdown",
      "metadata": {
        "id": "Fbt3xVoQoSYB"
      },
      "source": [
        "Graficando Decision Tree Classifier"
      ]
    },
    {
      "cell_type": "code",
      "metadata": {
        "id": "ndWtPehrlYII",
        "colab": {
          "base_uri": "https://localhost:8080/",
          "height": 573
        },
        "outputId": "22da54b3-05e0-4aab-c180-1bd2b0e03b51"
      },
      "source": [
        "feature_names = features.columns\n",
        "\n",
        "dot_data = export_graphviz(tree, out_file=None, \n",
        "                         feature_names=feature_names,  \n",
        "                         class_names=True,  \n",
        "                         filled=True, rounded=True,  \n",
        "                         special_characters=True)  \n",
        "graph = graphviz.Source(dot_data)\n",
        "graph"
      ],
      "execution_count": null,
      "outputs": [
        {
          "output_type": "execute_result",
          "data": {
            "text/plain": [
              "<graphviz.files.Source at 0x7f5c0c4eb350>"
            ],
            "image/svg+xml": "<?xml version=\"1.0\" encoding=\"UTF-8\" standalone=\"no\"?>\n<!DOCTYPE svg PUBLIC \"-//W3C//DTD SVG 1.1//EN\"\n \"http://www.w3.org/Graphics/SVG/1.1/DTD/svg11.dtd\">\n<!-- Generated by graphviz version 2.40.1 (20161225.0304)\n -->\n<!-- Title: Tree Pages: 1 -->\n<svg width=\"302pt\" height=\"414pt\"\n viewBox=\"0.00 0.00 302.00 414.00\" xmlns=\"http://www.w3.org/2000/svg\" xmlns:xlink=\"http://www.w3.org/1999/xlink\">\n<g id=\"graph0\" class=\"graph\" transform=\"scale(1 1) rotate(0) translate(4 410)\">\n<title>Tree</title>\n<polygon fill=\"#ffffff\" stroke=\"transparent\" points=\"-4,4 -4,-410 298,-410 298,4 -4,4\"/>\n<!-- 0 -->\n<g id=\"node1\" class=\"node\">\n<title>0</title>\n<path fill=\"#dbedfa\" stroke=\"#000000\" d=\"M161.5,-406C161.5,-406 69.5,-406 69.5,-406 63.5,-406 57.5,-400 57.5,-394 57.5,-394 57.5,-340 57.5,-340 57.5,-334 63.5,-328 69.5,-328 69.5,-328 161.5,-328 161.5,-328 167.5,-328 173.5,-334 173.5,-340 173.5,-340 173.5,-394 173.5,-394 173.5,-400 167.5,-406 161.5,-406\"/>\n<text text-anchor=\"start\" x=\"73.5\" y=\"-391.8\" font-family=\"Helvetica,sans-Serif\" font-size=\"14.00\" fill=\"#000000\">HGB ≤ 12.25</text>\n<text text-anchor=\"start\" x=\"77.5\" y=\"-377.8\" font-family=\"Helvetica,sans-Serif\" font-size=\"14.00\" fill=\"#000000\">gini = 0.495</text>\n<text text-anchor=\"start\" x=\"67.5\" y=\"-363.8\" font-family=\"Helvetica,sans-Serif\" font-size=\"14.00\" fill=\"#000000\">samples = 109</text>\n<text text-anchor=\"start\" x=\"65.5\" y=\"-349.8\" font-family=\"Helvetica,sans-Serif\" font-size=\"14.00\" fill=\"#000000\">value = [49, 60]</text>\n<text text-anchor=\"start\" x=\"83\" y=\"-335.8\" font-family=\"Helvetica,sans-Serif\" font-size=\"14.00\" fill=\"#000000\">class = y</text>\n<text text-anchor=\"start\" x=\"141\" y=\"-335.8\" font-family=\"Helvetica,sans-Serif\" baseline-shift=\"sub\" font-size=\"14.00\" fill=\"#000000\">1</text>\n</g>\n<!-- 1 -->\n<g id=\"node2\" class=\"node\">\n<title>1</title>\n<path fill=\"#399de5\" stroke=\"#000000\" d=\"M95,-285C95,-285 12,-285 12,-285 6,-285 0,-279 0,-273 0,-273 0,-233 0,-233 0,-227 6,-221 12,-221 12,-221 95,-221 95,-221 101,-221 107,-227 107,-233 107,-233 107,-273 107,-273 107,-279 101,-285 95,-285\"/>\n<text text-anchor=\"start\" x=\"24\" y=\"-270.8\" font-family=\"Helvetica,sans-Serif\" font-size=\"14.00\" fill=\"#000000\">gini = 0.0</text>\n<text text-anchor=\"start\" x=\"9.5\" y=\"-256.8\" font-family=\"Helvetica,sans-Serif\" font-size=\"14.00\" fill=\"#000000\">samples = 53</text>\n<text text-anchor=\"start\" x=\"8\" y=\"-242.8\" font-family=\"Helvetica,sans-Serif\" font-size=\"14.00\" fill=\"#000000\">value = [0, 53]</text>\n<text text-anchor=\"start\" x=\"21\" y=\"-228.8\" font-family=\"Helvetica,sans-Serif\" font-size=\"14.00\" fill=\"#000000\">class = y</text>\n<text text-anchor=\"start\" x=\"79\" y=\"-228.8\" font-family=\"Helvetica,sans-Serif\" baseline-shift=\"sub\" font-size=\"14.00\" fill=\"#000000\">1</text>\n</g>\n<!-- 0&#45;&gt;1 -->\n<g id=\"edge1\" class=\"edge\">\n<title>0&#45;&gt;1</title>\n<path fill=\"none\" stroke=\"#000000\" d=\"M94.1631,-327.7677C88.2521,-316.8991 81.8203,-305.0729 75.8531,-294.1009\"/>\n<polygon fill=\"#000000\" stroke=\"#000000\" points=\"78.8241,-292.2378 70.9716,-285.1252 72.6747,-295.5823 78.8241,-292.2378\"/>\n<text text-anchor=\"middle\" x=\"63.8879\" y=\"-305.4006\" font-family=\"Helvetica,sans-Serif\" font-size=\"14.00\" fill=\"#000000\">True</text>\n</g>\n<!-- 2 -->\n<g id=\"node3\" class=\"node\">\n<title>2</title>\n<path fill=\"#e99355\" stroke=\"#000000\" d=\"M220,-292C220,-292 137,-292 137,-292 131,-292 125,-286 125,-280 125,-280 125,-226 125,-226 125,-220 131,-214 137,-214 137,-214 220,-214 220,-214 226,-214 232,-220 232,-226 232,-226 232,-280 232,-280 232,-286 226,-292 220,-292\"/>\n<text text-anchor=\"start\" x=\"136.5\" y=\"-277.8\" font-family=\"Helvetica,sans-Serif\" font-size=\"14.00\" fill=\"#000000\">HGB ≤ 12.95</text>\n<text text-anchor=\"start\" x=\"140.5\" y=\"-263.8\" font-family=\"Helvetica,sans-Serif\" font-size=\"14.00\" fill=\"#000000\">gini = 0.219</text>\n<text text-anchor=\"start\" x=\"134.5\" y=\"-249.8\" font-family=\"Helvetica,sans-Serif\" font-size=\"14.00\" fill=\"#000000\">samples = 56</text>\n<text text-anchor=\"start\" x=\"133\" y=\"-235.8\" font-family=\"Helvetica,sans-Serif\" font-size=\"14.00\" fill=\"#000000\">value = [49, 7]</text>\n<text text-anchor=\"start\" x=\"146\" y=\"-221.8\" font-family=\"Helvetica,sans-Serif\" font-size=\"14.00\" fill=\"#000000\">class = y</text>\n<text text-anchor=\"start\" x=\"204\" y=\"-221.8\" font-family=\"Helvetica,sans-Serif\" baseline-shift=\"sub\" font-size=\"14.00\" fill=\"#000000\">0</text>\n</g>\n<!-- 0&#45;&gt;2 -->\n<g id=\"edge2\" class=\"edge\">\n<title>0&#45;&gt;2</title>\n<path fill=\"none\" stroke=\"#000000\" d=\"M137.181,-327.7677C141.9327,-319.1694 147.0156,-309.9718 151.9339,-301.072\"/>\n<polygon fill=\"#000000\" stroke=\"#000000\" points=\"155.0054,-302.75 156.779,-292.3046 148.8787,-299.3642 155.0054,-302.75\"/>\n<text text-anchor=\"middle\" x=\"163.7008\" y=\"-312.6273\" font-family=\"Helvetica,sans-Serif\" font-size=\"14.00\" fill=\"#000000\">False</text>\n</g>\n<!-- 3 -->\n<g id=\"node4\" class=\"node\">\n<title>3</title>\n<path fill=\"#fcefe6\" stroke=\"#000000\" d=\"M156.5,-178C156.5,-178 76.5,-178 76.5,-178 70.5,-178 64.5,-172 64.5,-166 64.5,-166 64.5,-112 64.5,-112 64.5,-106 70.5,-100 76.5,-100 76.5,-100 156.5,-100 156.5,-100 162.5,-100 168.5,-106 168.5,-112 168.5,-112 168.5,-166 168.5,-166 168.5,-172 162.5,-178 156.5,-178\"/>\n<text text-anchor=\"start\" x=\"86\" y=\"-163.8\" font-family=\"Helvetica,sans-Serif\" font-size=\"14.00\" fill=\"#000000\">Sex ≤ 0.5</text>\n<text text-anchor=\"start\" x=\"78.5\" y=\"-149.8\" font-family=\"Helvetica,sans-Serif\" font-size=\"14.00\" fill=\"#000000\">gini = 0.498</text>\n<text text-anchor=\"start\" x=\"72.5\" y=\"-135.8\" font-family=\"Helvetica,sans-Serif\" font-size=\"14.00\" fill=\"#000000\">samples = 15</text>\n<text text-anchor=\"start\" x=\"75\" y=\"-121.8\" font-family=\"Helvetica,sans-Serif\" font-size=\"14.00\" fill=\"#000000\">value = [8, 7]</text>\n<text text-anchor=\"start\" x=\"84\" y=\"-107.8\" font-family=\"Helvetica,sans-Serif\" font-size=\"14.00\" fill=\"#000000\">class = y</text>\n<text text-anchor=\"start\" x=\"142\" y=\"-107.8\" font-family=\"Helvetica,sans-Serif\" baseline-shift=\"sub\" font-size=\"14.00\" fill=\"#000000\">0</text>\n</g>\n<!-- 2&#45;&gt;3 -->\n<g id=\"edge3\" class=\"edge\">\n<title>2&#45;&gt;3</title>\n<path fill=\"none\" stroke=\"#000000\" d=\"M157.1631,-213.7677C152.5356,-205.259 147.5888,-196.1634 142.7957,-187.3502\"/>\n<polygon fill=\"#000000\" stroke=\"#000000\" points=\"145.7287,-185.4173 137.8762,-178.3046 139.5793,-188.7617 145.7287,-185.4173\"/>\n</g>\n<!-- 6 -->\n<g id=\"node7\" class=\"node\">\n<title>6</title>\n<path fill=\"#e58139\" stroke=\"#000000\" d=\"M282,-171C282,-171 199,-171 199,-171 193,-171 187,-165 187,-159 187,-159 187,-119 187,-119 187,-113 193,-107 199,-107 199,-107 282,-107 282,-107 288,-107 294,-113 294,-119 294,-119 294,-159 294,-159 294,-165 288,-171 282,-171\"/>\n<text text-anchor=\"start\" x=\"211\" y=\"-156.8\" font-family=\"Helvetica,sans-Serif\" font-size=\"14.00\" fill=\"#000000\">gini = 0.0</text>\n<text text-anchor=\"start\" x=\"196.5\" y=\"-142.8\" font-family=\"Helvetica,sans-Serif\" font-size=\"14.00\" fill=\"#000000\">samples = 41</text>\n<text text-anchor=\"start\" x=\"195\" y=\"-128.8\" font-family=\"Helvetica,sans-Serif\" font-size=\"14.00\" fill=\"#000000\">value = [41, 0]</text>\n<text text-anchor=\"start\" x=\"208\" y=\"-114.8\" font-family=\"Helvetica,sans-Serif\" font-size=\"14.00\" fill=\"#000000\">class = y</text>\n<text text-anchor=\"start\" x=\"266\" y=\"-114.8\" font-family=\"Helvetica,sans-Serif\" baseline-shift=\"sub\" font-size=\"14.00\" fill=\"#000000\">0</text>\n</g>\n<!-- 2&#45;&gt;6 -->\n<g id=\"edge6\" class=\"edge\">\n<title>2&#45;&gt;6</title>\n<path fill=\"none\" stroke=\"#000000\" d=\"M199.8369,-213.7677C205.7479,-202.8991 212.1797,-191.0729 218.1469,-180.1009\"/>\n<polygon fill=\"#000000\" stroke=\"#000000\" points=\"221.3253,-181.5823 223.0284,-171.1252 215.1759,-178.2378 221.3253,-181.5823\"/>\n</g>\n<!-- 4 -->\n<g id=\"node5\" class=\"node\">\n<title>4</title>\n<path fill=\"#399de5\" stroke=\"#000000\" d=\"M96,-64C96,-64 21,-64 21,-64 15,-64 9,-58 9,-52 9,-52 9,-12 9,-12 9,-6 15,0 21,0 21,0 96,0 96,0 102,0 108,-6 108,-12 108,-12 108,-52 108,-52 108,-58 102,-64 96,-64\"/>\n<text text-anchor=\"start\" x=\"29\" y=\"-49.8\" font-family=\"Helvetica,sans-Serif\" font-size=\"14.00\" fill=\"#000000\">gini = 0.0</text>\n<text text-anchor=\"start\" x=\"19\" y=\"-35.8\" font-family=\"Helvetica,sans-Serif\" font-size=\"14.00\" fill=\"#000000\">samples = 7</text>\n<text text-anchor=\"start\" x=\"17\" y=\"-21.8\" font-family=\"Helvetica,sans-Serif\" font-size=\"14.00\" fill=\"#000000\">value = [0, 7]</text>\n<text text-anchor=\"start\" x=\"26\" y=\"-7.8\" font-family=\"Helvetica,sans-Serif\" font-size=\"14.00\" fill=\"#000000\">class = y</text>\n<text text-anchor=\"start\" x=\"84\" y=\"-7.8\" font-family=\"Helvetica,sans-Serif\" baseline-shift=\"sub\" font-size=\"14.00\" fill=\"#000000\">1</text>\n</g>\n<!-- 3&#45;&gt;4 -->\n<g id=\"edge4\" class=\"edge\">\n<title>3&#45;&gt;4</title>\n<path fill=\"none\" stroke=\"#000000\" d=\"M95.2323,-99.7647C90.5292,-91.0884 85.5335,-81.8721 80.791,-73.123\"/>\n<polygon fill=\"#000000\" stroke=\"#000000\" points=\"83.8059,-71.3404 75.9634,-64.2169 77.6519,-74.6763 83.8059,-71.3404\"/>\n</g>\n<!-- 5 -->\n<g id=\"node6\" class=\"node\">\n<title>5</title>\n<path fill=\"#e58139\" stroke=\"#000000\" d=\"M213,-64C213,-64 138,-64 138,-64 132,-64 126,-58 126,-52 126,-52 126,-12 126,-12 126,-6 132,0 138,0 138,0 213,0 213,0 219,0 225,-6 225,-12 225,-12 225,-52 225,-52 225,-58 219,-64 213,-64\"/>\n<text text-anchor=\"start\" x=\"146\" y=\"-49.8\" font-family=\"Helvetica,sans-Serif\" font-size=\"14.00\" fill=\"#000000\">gini = 0.0</text>\n<text text-anchor=\"start\" x=\"136\" y=\"-35.8\" font-family=\"Helvetica,sans-Serif\" font-size=\"14.00\" fill=\"#000000\">samples = 8</text>\n<text text-anchor=\"start\" x=\"134\" y=\"-21.8\" font-family=\"Helvetica,sans-Serif\" font-size=\"14.00\" fill=\"#000000\">value = [8, 0]</text>\n<text text-anchor=\"start\" x=\"143\" y=\"-7.8\" font-family=\"Helvetica,sans-Serif\" font-size=\"14.00\" fill=\"#000000\">class = y</text>\n<text text-anchor=\"start\" x=\"201\" y=\"-7.8\" font-family=\"Helvetica,sans-Serif\" baseline-shift=\"sub\" font-size=\"14.00\" fill=\"#000000\">0</text>\n</g>\n<!-- 3&#45;&gt;5 -->\n<g id=\"edge5\" class=\"edge\">\n<title>3&#45;&gt;5</title>\n<path fill=\"none\" stroke=\"#000000\" d=\"M138.1344,-99.7647C142.9186,-91.0884 148.0005,-81.8721 152.8247,-73.123\"/>\n<polygon fill=\"#000000\" stroke=\"#000000\" points=\"155.9718,-74.6639 157.7356,-64.2169 149.842,-71.2838 155.9718,-74.6639\"/>\n</g>\n</g>\n</svg>\n"
          },
          "metadata": {},
          "execution_count": 6
        }
      ]
    },
    {
      "cell_type": "markdown",
      "metadata": {
        "id": "rnr2glNNstv2"
      },
      "source": [
        "Naive Bayes"
      ]
    },
    {
      "cell_type": "code",
      "metadata": {
        "id": "jRtTGW5QsWIW",
        "colab": {
          "base_uri": "https://localhost:8080/",
          "height": 589
        },
        "outputId": "08fe87f6-b8a6-4174-9de7-d4bdb920a052"
      },
      "source": [
        "#Partitioning entrenamiento/prueba\n",
        "from sklearn.model_selection import train_test_split\n",
        "X_train, X_test, y_train, y_test = train_test_split(X, y, test_size=0.70)\n",
        "\n",
        "#Entrenando y haciendo predicciones\n",
        "from sklearn.naive_bayes import GaussianNB\n",
        "classifier = GaussianNB()\n",
        "classifier.fit(X_train, y_train)\n",
        "y_predNB = classifier.predict(X_test)\n",
        "\n",
        "#Evaluar el algoritmo\n",
        "print(\"\\n********************* NAIVE BAYES *********************\")\n",
        "from sklearn.metrics import classification_report, confusion_matrix, accuracy_score\n",
        "from sklearn.metrics import confusion_matrix, ConfusionMatrixDisplay\n",
        "cm = confusion_matrix(y_test, y_predNB)\n",
        "disp = ConfusionMatrixDisplay(confusion_matrix=cm)\n",
        "disp.plot()\n",
        "print(\"\\n\\t   CONFUSION MATRIX\\n\")\n",
        "plt.show()\n",
        "\n",
        "print(\"\\n\\t\\t\\tCLASSIFICATION REPORT\\n\")\n",
        "print(classification_report(y_test, y_predNB))"
      ],
      "execution_count": null,
      "outputs": [
        {
          "output_type": "stream",
          "name": "stdout",
          "text": [
            "\n",
            "********************* NAIVE BAYES *********************\n",
            "\n",
            "\t   CONFUSION MATRIX\n",
            "\n"
          ]
        },
        {
          "output_type": "display_data",
          "data": {
            "image/png": "[encoded data removed]",
            "text/plain": [
              "<Figure size 432x288 with 2 Axes>"
            ]
          },
          "metadata": {
            "needs_background": "light"
          }
        },
        {
          "output_type": "stream",
          "name": "stdout",
          "text": [
            "\n",
            "\t\t\tCLASSIFICATION REPORT\n",
            "\n",
            "              precision    recall  f1-score   support\n",
            "\n",
            "           0       0.85      0.90      0.88       111\n",
            "           1       0.92      0.88      0.90       144\n",
            "\n",
            "    accuracy                           0.89       255\n",
            "   macro avg       0.89      0.89      0.89       255\n",
            "weighted avg       0.89      0.89      0.89       255\n",
            "\n"
          ]
        }
      ]
    },
    {
      "cell_type": "markdown",
      "metadata": {
        "id": "mlbuYn0QZkAS"
      },
      "source": [
        "Neural Network"
      ]
    },
    {
      "cell_type": "code",
      "metadata": {
        "id": "h6o38_U_Zjp6",
        "colab": {
          "base_uri": "https://localhost:8080/",
          "height": 594
        },
        "outputId": "ac0af7c0-bf77-4b65-9648-25b3afcb44f6"
      },
      "source": [
        "#Entrenando y haciendo predicciones\n",
        "from sklearn.neural_network import MLPClassifier\n",
        "#Creamos tres capas de 15 nodos cada una\n",
        "#MLPClassifier especifica el número de iteraciones que ejecutará la red neuronal\n",
        "mlp = MLPClassifier(hidden_layer_sizes=(15, 15, 15, 15, 15, 15, 15, 15, 15, 15, 15, 15, 15,15, 15, 15, 15, 15, 15, 15, 15, 15), max_iter=10000)\n",
        "mlp.fit(X_train, y_train.ravel())\n",
        "y_predNN = mlp.predict(X_test)\n",
        "\n",
        "#Evaluar el algoritmo\n",
        "print(\"\\n********************* NEURAL NETWORK *********************\")\n",
        "from sklearn.metrics import classification_report, confusion_matrix, accuracy_score\n",
        "from sklearn.metrics import confusion_matrix, ConfusionMatrixDisplay\n",
        "cm = confusion_matrix(y_test, y_pred)\n",
        "disp = ConfusionMatrixDisplay(confusion_matrix=cm)\n",
        "disp.plot()\n",
        "print(\"\\n\\t   CONFUSION MATRIX\\n\")\n",
        "plt.show()\n",
        "\n",
        "print(\"\\n\\t\\t\\tCLASSIFICATION REPORT\\n\")\n",
        "print(classification_report(y_test,y_predNN))"
      ],
      "execution_count": null,
      "outputs": [
        {
          "output_type": "stream",
          "name": "stdout",
          "text": [
            "\n",
            "********************* NEURAL NETWORK *********************\n",
            "\n",
            "\t   CONFUSION MATRIX\n",
            "\n"
          ]
        },
        {
          "output_type": "display_data",
          "data": {
            "image/png": "[encoded data removed]",
            "text/plain": [
              "<Figure size 432x288 with 2 Axes>"
            ]
          },
          "metadata": {
            "needs_background": "light"
          }
        },
        {
          "output_type": "stream",
          "name": "stdout",
          "text": [
            "\n",
            "\t\t\tCLASSIFICATION REPORT\n",
            "\n",
            "              precision    recall  f1-score   support\n",
            "\n",
            "           0       0.67      0.69      0.68       111\n",
            "           1       0.76      0.74      0.75       144\n",
            "\n",
            "    accuracy                           0.72       255\n",
            "   macro avg       0.71      0.71      0.71       255\n",
            "weighted avg       0.72      0.72      0.72       255\n",
            "\n"
          ]
        }
      ]
    }
  ]
}